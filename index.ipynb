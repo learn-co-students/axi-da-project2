{
 "cells": [
  {
   "cell_type": "markdown",
   "metadata": {},
   "source": [
    "# LEGO Regression Project\n",
    "\n",
    "## Introduction \n",
    "\n",
    "In this notebook you'll perform a simple linear regression analysis and report the findings of your model, including both predictive model performance metrics and interpretation of fitted model parameters.\n",
    "\n",
    "## Objectives\n",
    "\n",
    "You will be able to:\n",
    "\n",
    "* Write an SQL query to pull data from an SQL database\n",
    "* Perform a simple linear regression analysis \n",
    "* Evaluate your model and interpret its predictive performance metrics\n",
    "* Apply an inferential lens to interpret relationships between variables identified by the model"
   ]
  },
  {
   "cell_type": "markdown",
   "metadata": {},
   "source": [
    "# Task: Develop a LEGO Pricing Algorithm\n",
    "\n",
    "![pile of legos](images/legos.jpg)\n",
    "\n",
    "Photo by <a href=\"https://unsplash.com/@xavi_cabrera?utm_source=unsplash&utm_medium=referral&utm_content=creditCopyText\">Xavi Cabrera</a> on <a href=\"/s/photos/lego?utm_source=unsplash&utm_medium=referral&utm_content=creditCopyText\">Unsplash</a>"
   ]
  },
  {
   "cell_type": "markdown",
   "metadata": {},
   "source": [
    "## Business Understanding\n",
    "\n",
    "You just got hired by LEGO! Your first project is going to be to develop a pricing algorithm in order to analyze the value of individual lego pieces.\n",
    "\n",
    "The primary purpose of this algorithm is *inferential*, meaning that **your model should be able to tell us something about the relationship between the attributes of a LEGO set and its price**. You will apply your knowledge of statistics to include appropriate caveats about these relationships.\n",
    "\n",
    "## Data Understanding\n",
    "\n",
    "You have been given access to an sql database containing over 700 LEGO sets released in the past, including attributes of those sets as well as their prices.\n",
    "\n",
    "You do not need to worry about inflation or differences in currency; just predict the same kinds of prices as are present in the past data, which have already been converted to USD.\n",
    "\n",
    "## Loading the Data\n",
    "\n",
    "The database for this project is stored at the path `data/legos.db` in this project repository. The entity relational diagram (E.R.D) for the legos database is displayed below. \n",
    "\n",
    "To load in the data, you will need to complete the following tasks:\n",
    "- Open up a connection to the legos database\n",
    "- Write an sql query to join all three tables together\n",
    "- Run the sql query and load the joined tables into a pandas dataframe\n",
    "    - The easiest method for completing this task is to use the `pd.read_sql` method ([Documentation](https://pandas.pydata.org/docs/reference/api/pandas.read_sql.html))\n",
    "    - Store the pandas dataframe in a variable called `df`\n",
    "\n",
    "![Entity Relational Diagram](images/erd.png)"
   ]
  },
  {
   "cell_type": "code",
   "execution_count": 194,
   "metadata": {},
   "outputs": [],
   "source": [
    "# Run this cell without changes\n",
    "import sqlite3\n",
    "import pandas as pd\n",
    "import matplotlib.pyplot as plt\n",
    "%matplotlib inline"
   ]
  },
  {
   "cell_type": "code",
   "execution_count": 195,
   "metadata": {},
   "outputs": [],
   "source": [
    "# __SOLUTION__\n",
    "import sqlite3\n",
    "import pandas as pd\n",
    "import matplotlib.pyplot as plt\n",
    "%matplotlib inline"
   ]
  },
  {
   "cell_type": "code",
   "execution_count": 196,
   "metadata": {},
   "outputs": [],
   "source": [
    "# Replace None with your code\n",
    "\n",
    "connection = None\n",
    "\n",
    "sql_query = None\n",
    "\n",
    "df = None"
   ]
  },
  {
   "cell_type": "code",
   "execution_count": 197,
   "metadata": {},
   "outputs": [],
   "source": [
    "# __SOLUTION__\n",
    "\n",
    "connection = sqlite3.connect('data/legos.db')\n",
    "\n",
    "sql_query = \"\"\"\n",
    "            SELECT * FROM difficulty d\n",
    "            INNER JOIN product_info p\n",
    "            USING(\"Prod Id\")\n",
    "            INNER JOIN metrics m\n",
    "            USING(\"Prod Id\")\n",
    "            \"\"\"\n",
    "\n",
    "df = pd.read_sql(sql_query, connection)"
   ]
  },
  {
   "cell_type": "markdown",
   "metadata": {},
   "source": [
    "### Todo:\n",
    "\n",
    "\n",
    "- ~Add duplicates~\n",
    "- ~Add null values~\n",
    "    - ~In the target column~\n",
    "    \n",
    "- Outliers.\n",
    "- ~Change formatting of column names~\n",
    "- ~Make target column a string by adding a '$'~\n",
    "- Branch: da-linear-regression\n",
    "\n",
    "## Analysis Requirements\n",
    "\n",
    "### 1. Data Exploration and Cleaning\n",
    "\n",
    "During the data exploration phase, the datatypes of columns should be checked, the distribution of the target variable should be inspected, null values should be either removed or replaced, and duplicates (in most cases) should be dropped. \n",
    "\n",
    "### 2. Create a Baseline Model\n",
    "\n",
    "In order to evaluate how well a simple linear regression model is understanding the dependent variable, we will begin by first creating a model that predicts the mean of the dependent variable for every observation. Predicting the mean of `list_price` can be considered a highly naive model. If our simple linear regression model performs worse than this naive approach, we can safetly say that it is not a very good model. \n",
    "\n",
    "### 3. Interpret a Correlation Heatmap\n",
    "\n",
    "To develop a simple linear regression model, we will identify the independent variable that is most correlated with our dependent variable. To do this this we will plot a correlation heatmap to identify the variable most correlated with `list_price`.\n",
    "\n",
    "### 4. Build a Simple Linear Regression Model\n",
    "\n",
    "Now, create a linear regression model using the `statsmodels` library where the most correlated feature is used as the independent variable and the dependent variable is properly set. \n",
    "\n",
    "### 5. Interpret the Simple Linear Regression Model\n",
    "\n",
    "Once the model has been fit, the coefficient for our independent variable, its p-value, and the coefficient confidence interval should be interpeted. We should ask ourselves whether or not the relationship our model is finding seems plausible. \n",
    "\n",
    "### 6. Evaluate the Simple Linear Regression Model\n",
    "\n",
    "Before we can make a final assessment of our model, we need to compare its metrics with the baseline model created in step one, and we need to check the assumptions of linear regression.\n"
   ]
  },
  {
   "cell_type": "markdown",
   "metadata": {},
   "source": [
    "# 1. Data Exploration and Cleaning\n",
    "\n",
    "Inspect the dataframe by outputting the first five rows."
   ]
  },
  {
   "cell_type": "code",
   "execution_count": 198,
   "metadata": {},
   "outputs": [],
   "source": [
    "# Replace None with your code\n",
    "\n",
    "None"
   ]
  },
  {
   "cell_type": "code",
   "execution_count": 199,
   "metadata": {},
   "outputs": [
    {
     "data": {
      "text/html": [
       "<div>\n",
       "<style scoped>\n",
       "    .dataframe tbody tr th:only-of-type {\n",
       "        vertical-align: middle;\n",
       "    }\n",
       "\n",
       "    .dataframe tbody tr th {\n",
       "        vertical-align: top;\n",
       "    }\n",
       "\n",
       "    .dataframe thead th {\n",
       "        text-align: right;\n",
       "    }\n",
       "</style>\n",
       "<table border=\"1\" class=\"dataframe\">\n",
       "  <thead>\n",
       "    <tr style=\"text-align: right;\">\n",
       "      <th></th>\n",
       "      <th>Prod Id</th>\n",
       "      <th>Min Age</th>\n",
       "      <th>Max Age</th>\n",
       "      <th>Difficulty Level</th>\n",
       "      <th>Set Name</th>\n",
       "      <th>Prod Desc</th>\n",
       "      <th>Theme Name</th>\n",
       "      <th>Piece Count</th>\n",
       "      <th>Num Reviews</th>\n",
       "      <th>Star Rating</th>\n",
       "      <th>List Price</th>\n",
       "    </tr>\n",
       "  </thead>\n",
       "  <tbody>\n",
       "    <tr>\n",
       "      <th>0</th>\n",
       "      <td>60123</td>\n",
       "      <td>7.0</td>\n",
       "      <td>12.0</td>\n",
       "      <td>1</td>\n",
       "      <td>Volcano Supply Helicopter</td>\n",
       "      <td>Fly in the exploration gear and fly out the cr...</td>\n",
       "      <td>City</td>\n",
       "      <td>330</td>\n",
       "      <td>3.0</td>\n",
       "      <td>4.3</td>\n",
       "      <td>$49.99</td>\n",
       "    </tr>\n",
       "    <tr>\n",
       "      <th>1</th>\n",
       "      <td>71246</td>\n",
       "      <td>7.0</td>\n",
       "      <td>14.0</td>\n",
       "      <td>1</td>\n",
       "      <td>Adventure Time™ Team Pack</td>\n",
       "      <td>Explore the Land of Ooo with Jake and Lumpy Sp...</td>\n",
       "      <td>DIMENSIONS™</td>\n",
       "      <td>96</td>\n",
       "      <td>3.0</td>\n",
       "      <td>4.7</td>\n",
       "      <td>$30.362</td>\n",
       "    </tr>\n",
       "    <tr>\n",
       "      <th>2</th>\n",
       "      <td>10616</td>\n",
       "      <td>1.5</td>\n",
       "      <td>5.0</td>\n",
       "      <td>1</td>\n",
       "      <td>My First Playhouse</td>\n",
       "      <td>Learn about daily routines with this easy-to-b...</td>\n",
       "      <td>DUPLO®</td>\n",
       "      <td>25</td>\n",
       "      <td>3.0</td>\n",
       "      <td>5.0</td>\n",
       "      <td>$19.99</td>\n",
       "    </tr>\n",
       "    <tr>\n",
       "      <th>3</th>\n",
       "      <td>31079</td>\n",
       "      <td>8.0</td>\n",
       "      <td>12.0</td>\n",
       "      <td>1</td>\n",
       "      <td>Sunshine Surfer Van</td>\n",
       "      <td>Enjoy seaside fun with the 3-in-1 Sunshine Sur...</td>\n",
       "      <td>Creator 3-in-1</td>\n",
       "      <td>379</td>\n",
       "      <td>5.0</td>\n",
       "      <td>4.4</td>\n",
       "      <td>$34.99</td>\n",
       "    </tr>\n",
       "    <tr>\n",
       "      <th>4</th>\n",
       "      <td>42057</td>\n",
       "      <td>8.0</td>\n",
       "      <td>14.0</td>\n",
       "      <td>1</td>\n",
       "      <td>Ultralight Helicopter</td>\n",
       "      <td>Take to the skies with the Ultralight Helicopter!</td>\n",
       "      <td>Technic</td>\n",
       "      <td>199</td>\n",
       "      <td>9.0</td>\n",
       "      <td>4.7</td>\n",
       "      <td>$19.99</td>\n",
       "    </tr>\n",
       "  </tbody>\n",
       "</table>\n",
       "</div>"
      ],
      "text/plain": [
       "   Prod Id  Min Age  Max Age  Difficulty Level                   Set Name  \\\n",
       "0    60123      7.0     12.0                 1  Volcano Supply Helicopter   \n",
       "1    71246      7.0     14.0                 1  Adventure Time™ Team Pack   \n",
       "2    10616      1.5      5.0                 1         My First Playhouse   \n",
       "3    31079      8.0     12.0                 1        Sunshine Surfer Van   \n",
       "4    42057      8.0     14.0                 1      Ultralight Helicopter   \n",
       "\n",
       "                                           Prod Desc      Theme Name  \\\n",
       "0  Fly in the exploration gear and fly out the cr...            City   \n",
       "1  Explore the Land of Ooo with Jake and Lumpy Sp...     DIMENSIONS™   \n",
       "2  Learn about daily routines with this easy-to-b...          DUPLO®   \n",
       "3  Enjoy seaside fun with the 3-in-1 Sunshine Sur...  Creator 3-in-1   \n",
       "4  Take to the skies with the Ultralight Helicopter!         Technic   \n",
       "\n",
       "   Piece Count  Num Reviews  Star Rating List Price  \n",
       "0          330          3.0          4.3     $49.99  \n",
       "1           96          3.0          4.7    $30.362  \n",
       "2           25          3.0          5.0     $19.99  \n",
       "3          379          5.0          4.4     $34.99  \n",
       "4          199          9.0          4.7     $19.99  "
      ]
     },
     "execution_count": 199,
     "metadata": {},
     "output_type": "execute_result"
    }
   ],
   "source": [
    "# __SOLUTION__\n",
    "\n",
    "df.head()"
   ]
  },
  {
   "cell_type": "markdown",
   "metadata": {},
   "source": [
    "\n"
   ]
  },
  {
   "cell_type": "markdown",
   "metadata": {},
   "source": [
    "Produce high-level descriptive information about your training data"
   ]
  },
  {
   "cell_type": "code",
   "execution_count": 200,
   "metadata": {},
   "outputs": [],
   "source": [
    "# Replace None with your code\n",
    "\n",
    "None"
   ]
  },
  {
   "cell_type": "code",
   "execution_count": 201,
   "metadata": {},
   "outputs": [
    {
     "data": {
      "text/html": [
       "<div>\n",
       "<style scoped>\n",
       "    .dataframe tbody tr th:only-of-type {\n",
       "        vertical-align: middle;\n",
       "    }\n",
       "\n",
       "    .dataframe tbody tr th {\n",
       "        vertical-align: top;\n",
       "    }\n",
       "\n",
       "    .dataframe thead th {\n",
       "        text-align: right;\n",
       "    }\n",
       "</style>\n",
       "<table border=\"1\" class=\"dataframe\">\n",
       "  <thead>\n",
       "    <tr style=\"text-align: right;\">\n",
       "      <th></th>\n",
       "      <th>Prod Id</th>\n",
       "      <th>Min Age</th>\n",
       "      <th>Max Age</th>\n",
       "      <th>Difficulty Level</th>\n",
       "      <th>Piece Count</th>\n",
       "      <th>Num Reviews</th>\n",
       "      <th>Star Rating</th>\n",
       "    </tr>\n",
       "  </thead>\n",
       "  <tbody>\n",
       "    <tr>\n",
       "      <th>count</th>\n",
       "      <td>8.840000e+02</td>\n",
       "      <td>884.000000</td>\n",
       "      <td>884.000000</td>\n",
       "      <td>884.000000</td>\n",
       "      <td>884.000000</td>\n",
       "      <td>781.000000</td>\n",
       "      <td>781.000000</td>\n",
       "    </tr>\n",
       "    <tr>\n",
       "      <th>mean</th>\n",
       "      <td>5.821184e+04</td>\n",
       "      <td>6.781674</td>\n",
       "      <td>27.785068</td>\n",
       "      <td>1.483032</td>\n",
       "      <td>460.990950</td>\n",
       "      <td>17.610755</td>\n",
       "      <td>4.430602</td>\n",
       "    </tr>\n",
       "    <tr>\n",
       "      <th>std</th>\n",
       "      <td>1.388029e+05</td>\n",
       "      <td>2.984551</td>\n",
       "      <td>34.019566</td>\n",
       "      <td>0.796898</td>\n",
       "      <td>928.905788</td>\n",
       "      <td>38.143280</td>\n",
       "      <td>0.592083</td>\n",
       "    </tr>\n",
       "    <tr>\n",
       "      <th>min</th>\n",
       "      <td>6.300000e+02</td>\n",
       "      <td>1.500000</td>\n",
       "      <td>3.000000</td>\n",
       "      <td>0.000000</td>\n",
       "      <td>1.000000</td>\n",
       "      <td>1.000000</td>\n",
       "      <td>1.800000</td>\n",
       "    </tr>\n",
       "    <tr>\n",
       "      <th>25%</th>\n",
       "      <td>2.113875e+04</td>\n",
       "      <td>5.000000</td>\n",
       "      <td>12.000000</td>\n",
       "      <td>1.000000</td>\n",
       "      <td>88.750000</td>\n",
       "      <td>2.000000</td>\n",
       "      <td>4.100000</td>\n",
       "    </tr>\n",
       "    <tr>\n",
       "      <th>50%</th>\n",
       "      <td>4.550550e+04</td>\n",
       "      <td>7.000000</td>\n",
       "      <td>14.000000</td>\n",
       "      <td>2.000000</td>\n",
       "      <td>185.500000</td>\n",
       "      <td>6.000000</td>\n",
       "      <td>4.600000</td>\n",
       "    </tr>\n",
       "    <tr>\n",
       "      <th>75%</th>\n",
       "      <td>7.122825e+04</td>\n",
       "      <td>8.000000</td>\n",
       "      <td>14.000000</td>\n",
       "      <td>2.000000</td>\n",
       "      <td>457.750000</td>\n",
       "      <td>13.000000</td>\n",
       "      <td>4.900000</td>\n",
       "    </tr>\n",
       "    <tr>\n",
       "      <th>max</th>\n",
       "      <td>2.000431e+06</td>\n",
       "      <td>16.000000</td>\n",
       "      <td>99.000000</td>\n",
       "      <td>4.000000</td>\n",
       "      <td>7541.000000</td>\n",
       "      <td>367.000000</td>\n",
       "      <td>5.000000</td>\n",
       "    </tr>\n",
       "  </tbody>\n",
       "</table>\n",
       "</div>"
      ],
      "text/plain": [
       "            Prod Id     Min Age     Max Age  Difficulty Level  Piece Count  \\\n",
       "count  8.840000e+02  884.000000  884.000000        884.000000   884.000000   \n",
       "mean   5.821184e+04    6.781674   27.785068          1.483032   460.990950   \n",
       "std    1.388029e+05    2.984551   34.019566          0.796898   928.905788   \n",
       "min    6.300000e+02    1.500000    3.000000          0.000000     1.000000   \n",
       "25%    2.113875e+04    5.000000   12.000000          1.000000    88.750000   \n",
       "50%    4.550550e+04    7.000000   14.000000          2.000000   185.500000   \n",
       "75%    7.122825e+04    8.000000   14.000000          2.000000   457.750000   \n",
       "max    2.000431e+06   16.000000   99.000000          4.000000  7541.000000   \n",
       "\n",
       "       Num Reviews  Star Rating  \n",
       "count   781.000000   781.000000  \n",
       "mean     17.610755     4.430602  \n",
       "std      38.143280     0.592083  \n",
       "min       1.000000     1.800000  \n",
       "25%       2.000000     4.100000  \n",
       "50%       6.000000     4.600000  \n",
       "75%      13.000000     4.900000  \n",
       "max     367.000000     5.000000  "
      ]
     },
     "execution_count": 201,
     "metadata": {},
     "output_type": "execute_result"
    }
   ],
   "source": [
    "# __SOLUTION__\n",
    "\n",
    "df.describe()"
   ]
  },
  {
   "cell_type": "markdown",
   "metadata": {},
   "source": [
    "Display the number of null values for each column"
   ]
  },
  {
   "cell_type": "code",
   "execution_count": 202,
   "metadata": {},
   "outputs": [],
   "source": [
    "# Replace None with your code\n",
    "\n",
    "None"
   ]
  },
  {
   "cell_type": "code",
   "execution_count": 203,
   "metadata": {},
   "outputs": [
    {
     "data": {
      "text/plain": [
       "Prod Id               0\n",
       "Min Age               0\n",
       "Max Age               0\n",
       "Difficulty Level      0\n",
       "Set Name              0\n",
       "Prod Desc            20\n",
       "Theme Name            0\n",
       "Piece Count           0\n",
       "Num Reviews         103\n",
       "Star Rating         103\n",
       "List Price           40\n",
       "dtype: int64"
      ]
     },
     "execution_count": 203,
     "metadata": {},
     "output_type": "execute_result"
    }
   ],
   "source": [
    "#__SOLUTION__\n",
    "df.isna().sum()"
   ]
  },
  {
   "cell_type": "markdown",
   "metadata": {},
   "source": [
    "We have four columns that contain null values. Of those four, `List Price`, which is our dependent variable, is probably the most concerning. \n",
    "\n",
    "In the cell below, drop all rows where `List Price` is null."
   ]
  },
  {
   "cell_type": "code",
   "execution_count": 204,
   "metadata": {},
   "outputs": [],
   "source": [
    "# Replace None with your code\n",
    "\n",
    "None"
   ]
  },
  {
   "cell_type": "code",
   "execution_count": 205,
   "metadata": {},
   "outputs": [],
   "source": [
    "#__SOLUTION__\n",
    "df = df.dropna(subset=['List Price'])"
   ]
  },
  {
   "cell_type": "markdown",
   "metadata": {},
   "source": [
    "To make things easier moving forward, in the cell below, reformat the column names so spaces have been replaced with underscores and the text has been lowered."
   ]
  },
  {
   "cell_type": "code",
   "execution_count": 206,
   "metadata": {},
   "outputs": [],
   "source": [
    "# Replace None with your code\n",
    "\n",
    "None"
   ]
  },
  {
   "cell_type": "code",
   "execution_count": 207,
   "metadata": {},
   "outputs": [],
   "source": [
    "#__SOLUTION__\n",
    "df.columns = df.columns.str.lower().str.replace(' ', '_')"
   ]
  },
  {
   "cell_type": "markdown",
   "metadata": {},
   "source": [
    "Run the cell below to check your reformatting. If it runs without throwing an error it means you have reformatted the columns correctly."
   ]
  },
  {
   "cell_type": "code",
   "execution_count": 208,
   "metadata": {},
   "outputs": [],
   "source": [
    "assert 'min_age' in df.columns"
   ]
  },
  {
   "cell_type": "markdown",
   "metadata": {},
   "source": [
    "Check the datatypes of the columns in the dataframe. \n",
    "> Remember, the target column and any columns we use as independent variables *must* have a numeric datatype. After inspecting the datatypes of the columns, convert columns to numeric where necessary. "
   ]
  },
  {
   "cell_type": "code",
   "execution_count": 209,
   "metadata": {},
   "outputs": [],
   "source": [
    "# Replace None with your code\n",
    "\n",
    "None"
   ]
  },
  {
   "cell_type": "code",
   "execution_count": 210,
   "metadata": {},
   "outputs": [
    {
     "name": "stdout",
     "output_type": "stream",
     "text": [
      "prod_id               int64\n",
      "min_age             float64\n",
      "max_age             float64\n",
      "difficulty_level      int64\n",
      "set_name             object\n",
      "prod_desc            object\n",
      "theme_name           object\n",
      "piece_count           int64\n",
      "num_reviews         float64\n",
      "star_rating         float64\n",
      "list_price           object\n",
      "dtype: object\n"
     ]
    },
    {
     "name": "stderr",
     "output_type": "stream",
     "text": [
      "<ipython-input-210-8528c0020878>:4: FutureWarning: The default value of regex will change from True to False in a future version. In addition, single character regular expressions will*not* be treated as literal strings when regex=True.\n",
      "  df.list_price = df.list_price.str.replace('$', '').astype(float)\n"
     ]
    }
   ],
   "source": [
    "#__SOLUTION__\n",
    "print(df.dtypes)\n",
    "\n",
    "df.list_price = df.list_price.str.replace('$', '').astype(float)"
   ]
  },
  {
   "cell_type": "markdown",
   "metadata": {},
   "source": [
    "In the cell below, output the number of duplicate rows in the dataframe. If duplicates are found, drop them."
   ]
  },
  {
   "cell_type": "code",
   "execution_count": 211,
   "metadata": {},
   "outputs": [],
   "source": [
    "# Replace None with your code\n",
    "\n",
    "None"
   ]
  },
  {
   "cell_type": "code",
   "execution_count": 212,
   "metadata": {},
   "outputs": [
    {
     "name": "stdout",
     "output_type": "stream",
     "text": [
      "Duplicated rows: 100\n"
     ]
    }
   ],
   "source": [
    "#__SOLUTION__\n",
    "print('Duplicated rows:', df.duplicated().sum())\n",
    "\n",
    "df = df.drop_duplicates()"
   ]
  },
  {
   "cell_type": "markdown",
   "metadata": {},
   "source": [
    "Visualize the distribution of the dependent variable"
   ]
  },
  {
   "cell_type": "code",
   "execution_count": 213,
   "metadata": {},
   "outputs": [],
   "source": [
    "# Replace None with your code\n",
    "\n",
    "None"
   ]
  },
  {
   "cell_type": "code",
   "execution_count": 214,
   "metadata": {},
   "outputs": [
    {
     "data": {
      "image/png": "[encoded data removed]",
      "text/plain": [
       "<Figure size 720x360 with 1 Axes>"
      ]
     },
     "metadata": {
      "needs_background": "light"
     },
     "output_type": "display_data"
    }
   ],
   "source": [
    "# __SOLUTION__\n",
    "\n",
    "fig, ax = plt.subplots(figsize=(10, 5))\n",
    "\n",
    "ax.hist(df.list_price, bins=100)\n",
    "\n",
    "ax.set_xlabel(\"Listing Price (USD)\")\n",
    "ax.set_ylabel(\"Count of LEGO Sets\")\n",
    "ax.set_title(\"Distribution of LEGO Set Prices\");"
   ]
  },
  {
   "cell_type": "markdown",
   "metadata": {},
   "source": [
    "# Create a Baseline Model\n",
    "\n",
    "Below, we create a baseline model. To do this we must:\n",
    "\n",
    "1. Calculate the mean of the `list_price` column in the `train` dataframe.\n",
    "2. Create a list with the same length as the `list_price` column where every value in the list is the mean that was calculated in the previous task. \n",
    "    - Store this list in the variable `baseline_preds`."
   ]
  },
  {
   "cell_type": "code",
   "execution_count": 215,
   "metadata": {},
   "outputs": [],
   "source": [
    "# Calculate the mean of the list_price column in the train dataframe.\n",
    "mean = None\n",
    "\n",
    "# Create a list with the same length as the list_price column where every value in the list is the mean\n",
    "baseline_preds = None"
   ]
  },
  {
   "cell_type": "code",
   "execution_count": 216,
   "metadata": {},
   "outputs": [
    {
     "name": "stdout",
     "output_type": "stream",
     "text": [
      "Baseline R^2:  0.0\n",
      "Baseline RMSE: 70.31606908300459\n"
     ]
    }
   ],
   "source": [
    "#__SOLUTION__\n",
    "from sklearn.metrics import r2_score, mean_squared_error\n",
    "\n",
    "# Calculate the mean of the list_price column in the train dataframe.\n",
    "mean = train.list_price.mean()\n",
    "\n",
    "# Create a list with the same length as the list_price column where every value in the list is the mean\n",
    "baseline_preds = [mean for x in train.index]\n",
    "\n",
    "# Pass the list_price column and the baseline_preds list into the function r2_score\n",
    "baseline_r2 = r2_score(train.list_price, baseline_preds)\n",
    "\n",
    "# Pass the list_price column and the baseline_preds list \n",
    "# into the function mean_squared_error and setting squared to False\n",
    "baseline_rmse = mean_squared_error(train.list_price, baseline_preds, squared=False)\n",
    "\n",
    "print('Baseline R^2: ', baseline_r2)\n",
    "print('Baseline RMSE:', baseline_rmse)"
   ]
  },
  {
   "cell_type": "markdown",
   "metadata": {},
   "source": [
    "Now that we have baseline predictions, we can use the predictions to calculate metrics about the model's performance. "
   ]
  },
  {
   "cell_type": "code",
   "execution_count": 217,
   "metadata": {},
   "outputs": [
    {
     "name": "stdout",
     "output_type": "stream",
     "text": [
      "Baseline R^2:  0.0\n",
      "Baseline RMSE: 70.31606908300459\n"
     ]
    }
   ],
   "source": [
    "from sklearn.metrics import r2_score, mean_squared_error\n",
    "\n",
    "# Pass the list_price column and the baseline_preds list into the function r2_score\n",
    "baseline_r2 = r2_score(train.list_price, baseline_preds)\n",
    "\n",
    "# Pass the list_price column and the baseline_preds list \n",
    "# into the function mean_squared_error and setting squared to False\n",
    "baseline_rmse = mean_squared_error(train.list_price, baseline_preds, squared=False)\n",
    "\n",
    "print('Baseline R^2: ', baseline_r2)\n",
    "print('Baseline RMSE:', baseline_rmse)"
   ]
  },
  {
   "cell_type": "markdown",
   "metadata": {},
   "source": [
    "**Interpret the resulting metrics for the baseline model.**\n",
    "\n",
    "- How well is the model explaining the variance of the dependent variable?\n",
    "- On average, how many dollars off are the models predictions?"
   ]
  },
  {
   "cell_type": "markdown",
   "metadata": {},
   "source": [
    "==SOLUTION==\n",
    "\n",
    "The baseline model is doing a poor job at explaining the variance of the dependent variable. An $R^2$ of `0.0` can be interpreted as \"The model is explaining 0% of the variance in the dependent variable.\"\n",
    "\n",
    "The baseline model's predictions, on average, are mispredicted by about \\$70."
   ]
  },
  {
   "cell_type": "markdown",
   "metadata": {},
   "source": [
    "# 2. Interpret a Correlation Heatmap to Build a Baseline Model\n",
    "\n",
    "## Correlation Heatmap\n",
    "\n",
    "Produce a heatmap showing the correlations between all of the numeric values in our training data. The x and y axis labels should indicate the pair of values that are being compared, and then the color and the number should represent the correlation. \n",
    "\n",
    "The most important column or row shows the correlations between the target (listing price) and other attributes."
   ]
  },
  {
   "cell_type": "code",
   "execution_count": 218,
   "metadata": {},
   "outputs": [],
   "source": [
    "# Run this cell without changes\n",
    "\n",
    "import seaborn as sns\n",
    "import numpy as np"
   ]
  },
  {
   "cell_type": "code",
   "execution_count": 219,
   "metadata": {},
   "outputs": [],
   "source": [
    "# __SOLUTION__\n",
    "\n",
    "import seaborn as sns\n",
    "import numpy as np"
   ]
  },
  {
   "cell_type": "code",
   "execution_count": 220,
   "metadata": {},
   "outputs": [],
   "source": [
    "# Replace None with your code\n",
    "\n",
    "None"
   ]
  },
  {
   "cell_type": "code",
   "execution_count": 221,
   "metadata": {},
   "outputs": [
    {
     "data": {
      "image/png": "[encoded data removed]",
      "text/plain": [
       "<Figure size 360x576 with 2 Axes>"
      ]
     },
     "metadata": {
      "needs_background": "light"
     },
     "output_type": "display_data"
    }
   ],
   "source": [
    "# __SOLUTION__\n",
    "\n",
    "# Create a df with the target as the first column,\n",
    "# then compute the correlation matrix\n",
    "heatmap_data = train\n",
    "corr = heatmap_data.corr()\n",
    "\n",
    "# Set up figure and axes\n",
    "fig, ax = plt.subplots(figsize=(5, 8))\n",
    "\n",
    "# Plot a heatmap of the correlation matrix, with both\n",
    "# numbers and colors indicating the correlations\n",
    "sns.heatmap(\n",
    "    # Specifies the data to be plotted\n",
    "    data=corr,\n",
    "    # The mask means we only show half the values,\n",
    "    # instead of showing duplicates. It's optional.\n",
    "    mask=np.triu(np.ones_like(corr, dtype=bool)),\n",
    "    # Specifies that we should use the existing axes\n",
    "    ax=ax,\n",
    "    # Specifies that we want labels, not just colors\n",
    "    annot=True,\n",
    "    # Customizes colorbar appearance\n",
    "    cbar_kws={\"label\": \"Correlation\", \"orientation\": \"horizontal\", \"pad\": .2, \"extend\": \"both\"}\n",
    ")\n",
    "\n",
    "# Customize the plot appearance\n",
    "ax.set_title(\"Heatmap of Correlation Between Attributes (Including Target)\");"
   ]
  },
  {
   "cell_type": "markdown",
   "metadata": {},
   "source": [
    "Based on the heatmap, which feature is most strongly correlated with the target (`list_price`)? In other words, which feature has the strongest positive or negative correlation — the correlation with the greatest magnitude?"
   ]
  },
  {
   "cell_type": "code",
   "execution_count": 222,
   "metadata": {},
   "outputs": [],
   "source": [
    "# Replace None with the name of the feature (a string)\n",
    "\n",
    "most_correlated_feature = None"
   ]
  },
  {
   "cell_type": "code",
   "execution_count": 223,
   "metadata": {},
   "outputs": [],
   "source": [
    "# __SOLUTION__\n",
    "\n",
    "most_correlated_feature = \"piece_count\""
   ]
  },
  {
   "cell_type": "markdown",
   "metadata": {},
   "source": [
    "Create a scatter plot of that feature vs. listing price:"
   ]
  },
  {
   "cell_type": "code",
   "execution_count": 224,
   "metadata": {},
   "outputs": [],
   "source": [
    "# Replace None with your code\n",
    "\n",
    "None"
   ]
  },
  {
   "cell_type": "code",
   "execution_count": 225,
   "metadata": {},
   "outputs": [
    {
     "data": {
      "image/png": "[encoded data removed]",
      "text/plain": [
       "<Figure size 432x288 with 1 Axes>"
      ]
     },
     "metadata": {
      "needs_background": "light"
     },
     "output_type": "display_data"
    }
   ],
   "source": [
    "# __SOLUTION__\n",
    "\n",
    "fig, ax = plt.subplots()\n",
    "\n",
    "ax.scatter(df[most_correlated_feature], df.list_price, alpha=0.5)\n",
    "ax.set_xlabel(most_correlated_feature)\n",
    "ax.set_ylabel(\"listing price\")\n",
    "ax.set_title(\"Most Correlated Feature vs. Listing Price\");"
   ]
  },
  {
   "cell_type": "markdown",
   "metadata": {},
   "source": [
    "Assuming you correctly identified `piece_count` (the number of pieces in the LEGO set) as the most correlated feature, you should have a scatter plot that shows a fairly clear linear relationship between that feature and the target. It looks like we are ready to proceed with making our baseline model without any additional transformation."
   ]
  },
  {
   "cell_type": "markdown",
   "metadata": {},
   "source": [
    "# 3. Build a Simple Linear Regression Model\n",
    "\n",
    "Now, we'll build a linear regression model using just that feature. \n",
    "\n",
    "In the cell below, fit a statsmodels linear regression model to the data and output a summary for the model. "
   ]
  },
  {
   "cell_type": "code",
   "execution_count": 226,
   "metadata": {},
   "outputs": [],
   "source": [
    "import statsmodels.formula.api as smf\n",
    "\n",
    "# Replace None with your code\n",
    "\n",
    "model = None"
   ]
  },
  {
   "cell_type": "code",
   "execution_count": 227,
   "metadata": {},
   "outputs": [
    {
     "data": {
      "text/html": [
       "<table class=\"simpletable\">\n",
       "<caption>OLS Regression Results</caption>\n",
       "<tr>\n",
       "  <th>Dep. Variable:</th>       <td>list_price</td>    <th>  R-squared:         </th> <td>   0.743</td> \n",
       "</tr>\n",
       "<tr>\n",
       "  <th>Model:</th>                   <td>OLS</td>       <th>  Adj. R-squared:    </th> <td>   0.742</td> \n",
       "</tr>\n",
       "<tr>\n",
       "  <th>Method:</th>             <td>Least Squares</td>  <th>  F-statistic:       </th> <td>   2141.</td> \n",
       "</tr>\n",
       "<tr>\n",
       "  <th>Date:</th>             <td>Thu, 09 Sep 2021</td> <th>  Prob (F-statistic):</th> <td>6.91e-221</td>\n",
       "</tr>\n",
       "<tr>\n",
       "  <th>Time:</th>                 <td>16:11:57</td>     <th>  Log-Likelihood:    </th> <td> -3749.0</td> \n",
       "</tr>\n",
       "<tr>\n",
       "  <th>No. Observations:</th>      <td>   744</td>      <th>  AIC:               </th> <td>   7502.</td> \n",
       "</tr>\n",
       "<tr>\n",
       "  <th>Df Residuals:</th>          <td>   742</td>      <th>  BIC:               </th> <td>   7511.</td> \n",
       "</tr>\n",
       "<tr>\n",
       "  <th>Df Model:</th>              <td>     1</td>      <th>                     </th>     <td> </td>    \n",
       "</tr>\n",
       "<tr>\n",
       "  <th>Covariance Type:</th>      <td>nonrobust</td>    <th>                     </th>     <td> </td>    \n",
       "</tr>\n",
       "</table>\n",
       "<table class=\"simpletable\">\n",
       "<tr>\n",
       "       <td></td>          <th>coef</th>     <th>std err</th>      <th>t</th>      <th>P>|t|</th>  <th>[0.025</th>    <th>0.975]</th>  \n",
       "</tr>\n",
       "<tr>\n",
       "  <th>Intercept</th>   <td>   11.4565</td> <td>    1.593</td> <td>    7.192</td> <td> 0.000</td> <td>    8.329</td> <td>   14.584</td>\n",
       "</tr>\n",
       "<tr>\n",
       "  <th>piece_count</th> <td>    0.0875</td> <td>    0.002</td> <td>   46.273</td> <td> 0.000</td> <td>    0.084</td> <td>    0.091</td>\n",
       "</tr>\n",
       "</table>\n",
       "<table class=\"simpletable\">\n",
       "<tr>\n",
       "  <th>Omnibus:</th>       <td>1141.526</td> <th>  Durbin-Watson:     </th>  <td>   1.961</td> \n",
       "</tr>\n",
       "<tr>\n",
       "  <th>Prob(Omnibus):</th>  <td> 0.000</td>  <th>  Jarque-Bera (JB):  </th> <td>464258.231</td>\n",
       "</tr>\n",
       "<tr>\n",
       "  <th>Skew:</th>           <td> 8.756</td>  <th>  Prob(JB):          </th>  <td>    0.00</td> \n",
       "</tr>\n",
       "<tr>\n",
       "  <th>Kurtosis:</th>       <td>124.117</td> <th>  Cond. No.          </th>  <td>    978.</td> \n",
       "</tr>\n",
       "</table><br/><br/>Notes:<br/>[1] Standard Errors assume that the covariance matrix of the errors is correctly specified."
      ],
      "text/plain": [
       "<class 'statsmodels.iolib.summary.Summary'>\n",
       "\"\"\"\n",
       "                            OLS Regression Results                            \n",
       "==============================================================================\n",
       "Dep. Variable:             list_price   R-squared:                       0.743\n",
       "Model:                            OLS   Adj. R-squared:                  0.742\n",
       "Method:                 Least Squares   F-statistic:                     2141.\n",
       "Date:                Thu, 09 Sep 2021   Prob (F-statistic):          6.91e-221\n",
       "Time:                        16:11:57   Log-Likelihood:                -3749.0\n",
       "No. Observations:                 744   AIC:                             7502.\n",
       "Df Residuals:                     742   BIC:                             7511.\n",
       "Df Model:                           1                                         \n",
       "Covariance Type:            nonrobust                                         \n",
       "===============================================================================\n",
       "                  coef    std err          t      P>|t|      [0.025      0.975]\n",
       "-------------------------------------------------------------------------------\n",
       "Intercept      11.4565      1.593      7.192      0.000       8.329      14.584\n",
       "piece_count     0.0875      0.002     46.273      0.000       0.084       0.091\n",
       "==============================================================================\n",
       "Omnibus:                     1141.526   Durbin-Watson:                   1.961\n",
       "Prob(Omnibus):                  0.000   Jarque-Bera (JB):           464258.231\n",
       "Skew:                           8.756   Prob(JB):                         0.00\n",
       "Kurtosis:                     124.117   Cond. No.                         978.\n",
       "==============================================================================\n",
       "\n",
       "Notes:\n",
       "[1] Standard Errors assume that the covariance matrix of the errors is correctly specified.\n",
       "\"\"\""
      ]
     },
     "execution_count": 227,
     "metadata": {},
     "output_type": "execute_result"
    }
   ],
   "source": [
    "# __SOLUTION__\n",
    "\n",
    "import statsmodels.formula.api as smf\n",
    "\n",
    "model = smf.ols('list_price ~ piece_count', df).fit()\n",
    "model.summary()"
   ]
  },
  {
   "cell_type": "markdown",
   "metadata": {},
   "source": [
    "# 4. Interpret the Simple Linear Regression Model"
   ]
  },
  {
   "cell_type": "markdown",
   "metadata": {},
   "source": [
    "Once the model has been fit, the coefficient for the intercept, the independent variable, p-values, and the coefficient confidence intervals should be interpeted. We should ask ourselves whether or not the relationship our model is finding seems plausible."
   ]
  },
  {
   "cell_type": "markdown",
   "metadata": {},
   "source": [
    "==SOLUTION==\n",
    "\n",
    "This model suggests that on average, the price of a lego set increases between 0.081 and 0.089 US dollars when the piece count of the lego set is increased by 1. This model finds that when there are 0 pieces, the average price of a lego set is between \\\\$8.955 and \\\\$15.640. Given that a lego set must have pieces, this intercept is not very useful. The coefficients for the intercept and the piece count variable are both statistically significant (p<0.05)."
   ]
  },
  {
   "cell_type": "markdown",
   "metadata": {},
   "source": [
    "# 5. Evaluate the Simple Linear Regression Model"
   ]
  },
  {
   "cell_type": "markdown",
   "metadata": {},
   "source": [
    "Before we can make a final assessment of our model, we need to compare its metrics with the baseline model created in step one, and we need to check the assumptions of linear regression."
   ]
  },
  {
   "cell_type": "markdown",
   "metadata": {},
   "source": [
    "### Compare the $R^2$ and the Root Mean Squared Error of the simple linear regression model with the baseline model. "
   ]
  },
  {
   "cell_type": "code",
   "execution_count": 228,
   "metadata": {},
   "outputs": [
    {
     "name": "stdout",
     "output_type": "stream",
     "text": [
      "Baseline R^2:  0.0\n",
      "Baseline RMSE: 70.31606908300459\n",
      "----------------------------\n",
      "Regression R^2:  None\n",
      "Regression RMSE: None\n"
     ]
    }
   ],
   "source": [
    "# Replace None with your code\n",
    "model_r2 = None\n",
    "\n",
    "model_rmse = None\n",
    "\n",
    "print('Baseline R^2: ', baseline_r2)\n",
    "print('Baseline RMSE:', baseline_rmse)\n",
    "print('----------------------------')\n",
    "print('Regression R^2: ', model_r2)\n",
    "print('Regression RMSE:', model_rmse)"
   ]
  },
  {
   "cell_type": "code",
   "execution_count": 231,
   "metadata": {},
   "outputs": [
    {
     "name": "stdout",
     "output_type": "stream",
     "text": [
      "Baseline R^2:  0.0\n",
      "Baseline RMSE: 70.31606908300459\n",
      "------------------------------------\n",
      "Regression R^2:  0.7426440497844149\n",
      "Regression RMSE: 37.33856230937886\n"
     ]
    }
   ],
   "source": [
    "#__SOLUTION__\n",
    "model_r2 = r2_score(df.list_price, model.predict())\n",
    "\n",
    "model_rmse = mean_squared_error(df.list_price, model.predict(), squared=False)\n",
    "\n",
    "print('Baseline R^2: ', baseline_r2)\n",
    "print('Baseline RMSE:', baseline_rmse)\n",
    "print('------------------------------------')\n",
    "print('Regression R^2: ', model_r2)\n",
    "print('Regression RMSE:', model_rmse)"
   ]
  },
  {
   "cell_type": "markdown",
   "metadata": {},
   "source": [
    "### Interpret the model metrics"
   ]
  },
  {
   "cell_type": "markdown",
   "metadata": {},
   "source": [
    "==SOLUTION==\n",
    "\n",
    "**$R^2$**:\n",
    "\n",
    "- The simple linear regression model is explains approximately 76% of the dependent variable's variance. \n",
    "- The simple linear regression model produced a 76 point improvement over the baseline model. \n",
    "\n",
    "**RMSE**:\n",
    "\n",
    "- The simple linear regression model's predictions are off, on average, by about \\\\$35\n",
    "- The simple linear regression model's predictions are about \\\\$35 more accurate than the baseline model."
   ]
  },
  {
   "cell_type": "markdown",
   "metadata": {},
   "source": [
    "### Check the assumptions of simple linear regression"
   ]
  },
  {
   "cell_type": "markdown",
   "metadata": {},
   "source": [
    "#### Investigating Linearity\n",
    "\n",
    "First, let's check whether the linearity assumption holds."
   ]
  },
  {
   "cell_type": "code",
   "execution_count": 232,
   "metadata": {},
   "outputs": [
    {
     "data": {
      "image/png": "[encoded data removed]",
      "text/plain": [
       "<Figure size 432x288 with 1 Axes>"
      ]
     },
     "metadata": {
      "needs_background": "light"
     },
     "output_type": "display_data"
    }
   ],
   "source": [
    "# Run this cell without changes\n",
    "\n",
    "preds = model.predict()\n",
    "fig, ax = plt.subplots()\n",
    "\n",
    "perfect_line = np.arange(df.list_price.min(), df.list_price.max())\n",
    "ax.plot(perfect_line, linestyle=\"--\", color=\"orange\", label=\"Perfect Fit\")\n",
    "ax.scatter(df.list_price, preds, alpha=0.5)\n",
    "ax.set_xlabel(\"Actual Price\")\n",
    "ax.set_ylabel(\"Predicted Price\")\n",
    "ax.legend();"
   ]
  },
  {
   "cell_type": "code",
   "execution_count": 234,
   "metadata": {},
   "outputs": [
    {
     "data": {
      "image/png": "[encoded data removed]",
      "text/plain": [
       "<Figure size 432x288 with 1 Axes>"
      ]
     },
     "metadata": {
      "needs_background": "light"
     },
     "output_type": "display_data"
    }
   ],
   "source": [
    "# __SOLUTION__\n",
    "preds = model.predict()\n",
    "fig, ax = plt.subplots()\n",
    "\n",
    "perfect_line = np.arange(df.list_price.min(), df.list_price.max())\n",
    "ax.plot(perfect_line, linestyle=\"--\", color=\"orange\", label=\"Perfect Fit\")\n",
    "ax.scatter(df.list_price, preds, alpha=0.5)\n",
    "ax.set_xlabel(\"Actual Price\")\n",
    "ax.set_ylabel(\"Predicted Price\")\n",
    "ax.legend();"
   ]
  },
  {
   "cell_type": "markdown",
   "metadata": {},
   "source": [
    "Are we violating the linearity assumption?"
   ]
  },
  {
   "cell_type": "code",
   "execution_count": null,
   "metadata": {},
   "outputs": [],
   "source": [
    "# Replace None with appropriate text\n",
    "\"\"\"\n",
    "None\n",
    "\"\"\""
   ]
  },
  {
   "cell_type": "code",
   "execution_count": 38,
   "metadata": {},
   "outputs": [
    {
     "data": {
      "text/plain": [
       "'\\nWe have some outliers that are all over the\\nplace, but in general it looks like we have\\na linear relationship (not violating this\\nassumption)\\n'"
      ]
     },
     "execution_count": 38,
     "metadata": {},
     "output_type": "execute_result"
    }
   ],
   "source": [
    "# __SOLUTION__\n",
    "\"\"\"\n",
    "We have some outliers that are all over the\n",
    "place, but in general it looks like we have\n",
    "a linear relationship (not violating this\n",
    "assumption)\n",
    "\"\"\""
   ]
  },
  {
   "cell_type": "markdown",
   "metadata": {},
   "source": [
    "#### Investigating Normality\n",
    "\n",
    "Now let's check whether the normality assumption holds for our model."
   ]
  },
  {
   "cell_type": "code",
   "execution_count": 236,
   "metadata": {},
   "outputs": [
    {
     "data": {
      "image/png": "[encoded data removed]",
      "text/plain": [
       "<Figure size 432x288 with 1 Axes>"
      ]
     },
     "metadata": {
      "needs_background": "light"
     },
     "output_type": "display_data"
    }
   ],
   "source": [
    "# Run this code without changes\n",
    "import scipy.stats as stats\n",
    "import statsmodels.api as sm\n",
    "\n",
    "residuals = (df.list_price - preds)\n",
    "sm.graphics.qqplot(residuals, dist=stats.norm, line='45', fit=True);"
   ]
  },
  {
   "cell_type": "code",
   "execution_count": 237,
   "metadata": {},
   "outputs": [
    {
     "data": {
      "image/png": "[encoded data removed]",
      "text/plain": [
       "<Figure size 432x288 with 1 Axes>"
      ]
     },
     "metadata": {
      "needs_background": "light"
     },
     "output_type": "display_data"
    }
   ],
   "source": [
    "# __SOLUTION__\n",
    "import scipy.stats as stats\n",
    "residuals = (df.list_price - preds)\n",
    "sm.graphics.qqplot(residuals, dist=stats.norm, line='45', fit=True);"
   ]
  },
  {
   "cell_type": "markdown",
   "metadata": {},
   "source": [
    "Are we violating the normality assumption?"
   ]
  },
  {
   "cell_type": "code",
   "execution_count": null,
   "metadata": {},
   "outputs": [],
   "source": [
    "# Replace None with appropriate text\n",
    "\"\"\"\n",
    "None\n",
    "\"\"\""
   ]
  },
  {
   "cell_type": "code",
   "execution_count": 40,
   "metadata": {},
   "outputs": [
    {
     "data": {
      "text/plain": [
       "'\\nOur outliers are again causing problems. This\\nis bad enough that we can probably say that we\\nare violating the normality assumption\\n'"
      ]
     },
     "execution_count": 40,
     "metadata": {},
     "output_type": "execute_result"
    }
   ],
   "source": [
    "# __SOLUTION__\n",
    "\"\"\"\n",
    "Our outliers are again causing problems. This\n",
    "is bad enough that we can probably say that we\n",
    "are violating the normality assumption\n",
    "\"\"\""
   ]
  },
  {
   "cell_type": "markdown",
   "metadata": {},
   "source": [
    "#### Investigating Homoscedasticity\n",
    "\n",
    "Now let's check whether the model's errors are indeed homoscedastic or if they violate this principle and display heteroscedasticity."
   ]
  },
  {
   "cell_type": "code",
   "execution_count": 239,
   "metadata": {},
   "outputs": [
    {
     "data": {
      "image/png": "[encoded data removed]",
      "text/plain": [
       "<Figure size 432x288 with 1 Axes>"
      ]
     },
     "metadata": {
      "needs_background": "light"
     },
     "output_type": "display_data"
    }
   ],
   "source": [
    "# Run this cell without changes\n",
    "fig, ax = plt.subplots()\n",
    "\n",
    "ax.scatter(preds, residuals, alpha=0.5)\n",
    "ax.plot(preds, [0 for i in range(len(df))])\n",
    "ax.set_xlabel(\"Predicted Value\")\n",
    "ax.set_ylabel(\"Actual - Predicted Value\");"
   ]
  },
  {
   "cell_type": "code",
   "execution_count": 240,
   "metadata": {},
   "outputs": [
    {
     "data": {
      "image/png": "[encoded data removed]",
      "text/plain": [
       "<Figure size 432x288 with 1 Axes>"
      ]
     },
     "metadata": {
      "needs_background": "light"
     },
     "output_type": "display_data"
    }
   ],
   "source": [
    "# __SOLUTION__ \n",
    "fig, ax = plt.subplots()\n",
    "\n",
    "ax.scatter(preds, residuals, alpha=0.5)\n",
    "ax.plot(preds, [0 for i in range(len(df))])\n",
    "ax.set_xlabel(\"Predicted Value\")\n",
    "ax.set_ylabel(\"Actual - Predicted Value\");"
   ]
  },
  {
   "cell_type": "markdown",
   "metadata": {},
   "source": [
    "Are we violating the homoscedasticity assumption?"
   ]
  },
  {
   "cell_type": "code",
   "execution_count": null,
   "metadata": {},
   "outputs": [],
   "source": [
    "# Replace None with appropriate text\n",
    "\"\"\"\n",
    "None\n",
    "\"\"\""
   ]
  },
  {
   "cell_type": "code",
   "execution_count": 44,
   "metadata": {},
   "outputs": [
    {
     "data": {
      "text/plain": [
       "'\\nThis is not the worst \"funnel\" shape, although\\nthe residuals do seem to differ some based on\\nthe predicted price. We are probably violating\\na strict definition of homoscedasticity.\\n'"
      ]
     },
     "execution_count": 44,
     "metadata": {},
     "output_type": "execute_result"
    }
   ],
   "source": [
    "# __SOLUTION__\n",
    "\"\"\"\n",
    "This is not the worst \"funnel\" shape, although\n",
    "the residuals do seem to differ some based on\n",
    "the predicted price. We are probably violating\n",
    "a strict definition of homoscedasticity.\n",
    "\"\"\""
   ]
  },
  {
   "cell_type": "markdown",
   "metadata": {},
   "source": [
    "### Linear Regression Assumptions Conclusion\n",
    "\n",
    "Given your answers above, how should we interpret our model's coefficients? Do we have a model that can be used for inferential as well as predictive purposes? What might your next steps be?"
   ]
  },
  {
   "cell_type": "code",
   "execution_count": null,
   "metadata": {},
   "outputs": [],
   "source": [
    "# Replace None with appropriate text\n",
    "\"\"\"\n",
    "None\n",
    "\"\"\""
   ]
  },
  {
   "cell_type": "code",
   "execution_count": 241,
   "metadata": {},
   "outputs": [
    {
     "data": {
      "text/plain": [
       "'\\nOur confidence in the piece count coefficient should not be too high, since\\nwe are violating or close to violating more than one of the\\nassumptions of linear regression. This really only should be used\\nfor predictive purposes.\\n\\nA good next step here would be to start trying to figure out why\\nour outliers behave the way they do. Additionally, adding other variables\\nto the model (Moving beyond simple linear regression) may help meet the assumptions.\\n'"
      ]
     },
     "execution_count": 241,
     "metadata": {},
     "output_type": "execute_result"
    }
   ],
   "source": [
    "# __SOLUTION__\n",
    "\"\"\"\n",
    "Our confidence in the piece count coefficient should not be too high, since\n",
    "we are violating or close to violating more than one of the\n",
    "assumptions of linear regression. This really only should be used\n",
    "for predictive purposes.\n",
    "\n",
    "A good next step here would be to start trying to figure out why\n",
    "our outliers behave the way they do. Additionally, adding other variables\n",
    "to the model (Moving beyond simple linear regression) may help meet the assumptions.\n",
    "\"\"\""
   ]
  },
  {
   "cell_type": "markdown",
   "metadata": {},
   "source": [
    "# Level Up: Project Enhancements\n",
    "\n",
    "After completing the project, you could consider the following enhancements if you have time:\n",
    "\n",
    "* Compile the data cleaning code into a function\n",
    "* Identify and remove outliers, then redo the analysis\n",
    "* Identify models with high or low value for LEGO buyers, using the differences between actual and predicted prices\n",
    "* Conduct statistical tests using the numeric features in the dataset to make inferences about the population of LEGO sets"
   ]
  },
  {
   "cell_type": "markdown",
   "metadata": {},
   "source": [
    "## Summary"
   ]
  },
  {
   "cell_type": "markdown",
   "metadata": {},
   "source": [
    "Well done! As you can see, regression can be a challenging task that requires you to make decisions along the way, try alternative approaches, and make ongoing refinements."
   ]
  }
 ],
 "metadata": {
  "kernelspec": {
   "display_name": "Python 3",
   "language": "python",
   "name": "python3"
  },
  "language_info": {
   "codemirror_mode": {
    "name": "ipython",
    "version": 3
   },
   "file_extension": ".py",
   "mimetype": "text/x-python",
   "name": "python",
   "nbconvert_exporter": "python",
   "pygments_lexer": "ipython3",
   "version": "3.8.8"
  }
 },
 "nbformat": 4,
 "nbformat_minor": 4
}
